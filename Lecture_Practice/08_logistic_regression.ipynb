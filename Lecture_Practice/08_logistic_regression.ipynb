{
 "cells": [
  {
   "cell_type": "markdown",
   "metadata": {},
   "source": [
    "# Logistic Regression\n",
    "\n",
    "Today you will:\n",
    "1. Implement logistic regression from scratch\n",
    "2. Use sklearn's optimization algorithms\n",
    "3. Test on dummy data with visualizations\n",
    "4. Explore sklearn's LogisticRegression parameters"
   ]
  },
  {
   "cell_type": "code",
   "execution_count": 4,
   "metadata": {},
   "outputs": [],
   "source": [
    "import numpy as np\n",
    "import matplotlib.pyplot as plt\n",
    "from sklearn.datasets import make_classification\n",
    "from sklearn.linear_model import LogisticRegression\n",
    "#from sklearn.optimization import minimize\n",
    "from scipy.optimize import minimize\n",
    "from sklearn.model_selection import train_test_split\n",
    "from sklearn.metrics import accuracy_score, confusion_matrix\n",
    "import seaborn as sns\n",
    "\n",
    "plt.style.use('seaborn-v0_8')\n",
    "np.random.seed(42)"
   ]
  },
  {
   "cell_type": "markdown",
   "metadata": {},
   "source": [
    "## Part 1: Implementing Logistic Regression from Scratch\n",
    "\n",
    "### Step 1: Implement the Sigmoid Function\n",
    "The sigmoid function maps any real number to a value between 0 and 1:\n",
    "$$\\sigma(z) = \\frac{1}{1 + e^{-z}}$$"
   ]
  },
  {
   "cell_type": "code",
   "execution_count": 5,
   "metadata": {},
   "outputs": [
    {
     "data": {
      "image/png": "[encoded data removed]",
      "text/plain": [
       "<Figure size 800x500 with 1 Axes>"
      ]
     },
     "metadata": {},
     "output_type": "display_data"
    }
   ],
   "source": [
    "def sigmoid(z):\n",
    "    \"\"\"\n",
    "    Compute the sigmoid function.\n",
    "    \n",
    "    Args:\n",
    "        z: Input values (can be scalar or array)\n",
    "    \n",
    "    Returns:\n",
    "        Sigmoid of z\n",
    "    \"\"\"\n",
    "    # TODO: Implement sigmoid function\n",
    "    # Hint: Use np.exp() and handle potential overflow\n",
    "    return 1 / (1 + np.exp(-np.clip(z, -250, 250)))\n",
    "\n",
    "# Test the sigmoid function\n",
    "z_test = np.linspace(-10, 10, 100)\n",
    "plt.figure(figsize=(8, 5))\n",
    "plt.plot(z_test, sigmoid(z_test))\n",
    "plt.title('Sigmoid Function')\n",
    "plt.xlabel('z')\n",
    "plt.ylabel('σ(z)')\n",
    "plt.grid(True)\n",
    "plt.show()"
   ]
  },
  {
   "cell_type": "markdown",
   "metadata": {},
   "source": [
    "### Step 2: Implement the Logistic Loss Function\n",
    "The logistic loss (cross-entropy) for binary classification:\n",
    "$$J(\\theta) = -\\frac{1}{m} \\sum_{i=1}^{m} [y^{(i)} \\log(h_\\theta(x^{(i)})) + (1-y^{(i)}) \\log(1-h_\\theta(x^{(i)}))]$$\n",
    "\n",
    "where $h_\\theta(x) = \\sigma(\\theta^T x)$"
   ]
  },
  {
   "cell_type": "code",
   "execution_count": 6,
   "metadata": {},
   "outputs": [],
   "source": [
    "def logistic_loss(theta, X, y):\n",
    "    \"\"\"\n",
    "    Compute logistic loss function.\n",
    "    \n",
    "    Args:\n",
    "        theta: Parameters (weights and bias)\n",
    "        X: Feature matrix (m x n)\n",
    "        y: Labels (m x 1)\n",
    "    \n",
    "    Returns:\n",
    "        Loss value\n",
    "    \"\"\"\n",
    "    m = len(y)\n",
    "    \n",
    "    # TODO: Implement logistic loss\n",
    "    # Steps:\n",
    "\n",
    "    # Prevent log(0) by adding small epsilon\n",
    "\n",
    "\n",
    "    z = X @ theta\n",
    "    h = 1 / (1 + np.exp(-z))\n",
    "    epsilon = 1e-15\n",
    "    h = np.clip(h, epsilon, 1 - epsilon)\n",
    "    loss = - (1/m) * np.sum(y * np.log(h) + (1 - y) * np.log(1 - h))\n",
    "    \n",
    "    return loss\n",
    "\n",
    "def logistic_gradient(theta, X, y):\n",
    "    \"\"\"\n",
    "    Compute gradient of logistic loss.\n",
    "    \n",
    "    Args:\n",
    "        theta: Parameters\n",
    "        X: Feature matrix\n",
    "        y: Labels\n",
    "    \n",
    "    Returns:\n",
    "        Gradient vector\n",
    "    \"\"\"\n",
    "    m = len(y)\n",
    "    z = X @ theta\n",
    "    h = 1 / (1 + np.exp(-z))\n",
    "    error = h - y\n",
    "gradient = (X.T @ error) / m\n",
    "\n",
    "\n",
    "    \n",
    "    # TODO: Implement gradient computation\n",
    "    return gradient"
   ]
  },
  {
   "cell_type": "markdown",
   "metadata": {},
   "source": [
    "### Step 3: Create Dummy Dataset"
   ]
  },
  {
   "cell_type": "code",
   "execution_count": null,
   "metadata": {},
   "outputs": [],
   "source": [
    "# Generate dummy binary classification dataset\n",
    "X, y = make_classification(n_samples=1000, n_features=2, n_redundant=0, \n",
    "                          n_informative=2, n_clusters_per_class=1, \n",
    "                          random_state=42)\n",
    "\n",
    "# Add bias term (intercept)\n",
    "X_with_bias = np.c_[np.ones(X.shape[0]), X]\n",
    "\n",
    "# Split data\n",
    "X_train, X_test, y_train, y_test = train_test_split(X_with_bias, y, \n",
    "                                                   test_size=0.3, random_state=42)\n",
    "\n",
    "# Visualize the dataset\n",
    "plt.figure(figsize=(8, 6))\n",
    "plt.scatter(X[y==0, 0], X[y==0, 1], c='red', marker='o', alpha=0.7, label='Class 0')\n",
    "plt.scatter(X[y==1, 0], X[y==1, 1], c='blue', marker='s', alpha=0.7, label='Class 1')\n",
    "plt.xlabel('Feature 1')\n",
    "plt.ylabel('Feature 2')\n",
    "plt.title('Binary Classification Dataset')\n",
    "plt.legend()\n",
    "plt.grid(True)\n",
    "plt.show()\n",
    "\n",
    "print(f\"Training set size: {X_train.shape[0]}\")\n",
    "print(f\"Test set size: {X_test.shape[0]}\")\n",
    "print(f\"Number of features (with bias): {X_train.shape[1]}\")"
   ]
  },
  {
   "cell_type": "markdown",
   "metadata": {},
   "source": [
    "### Step 4: Optimize Using scipy.optimize.minimize\n",
    "We'll use sklearn's optimization algorithms through scipy's minimize function."
   ]
  },
  {
   "cell_type": "code",
   "execution_count": null,
   "metadata": {},
   "outputs": [],
   "source": [
    "from scipy.optimize import minimize\n",
    "\n",
    "class LogisticRegressionFromScratch:\n",
    "    def __init__(self, method='BFGS'):\n",
    "        self.method = method\n",
    "        self.theta = None\n",
    "        self.cost_history = []\n",
    "    \n",
    "    def fit(self, X, y):\n",
    "        # Initialize parameters\n",
    "        n_features = X.shape[1]\n",
    "        initial_theta = np.random.normal(0, 0.01, n_features)\n",
    "        \n",
    "        # Callback to store cost history\n",
    "        def callback(theta):\n",
    "            cost = logistic_loss(theta, X, y)\n",
    "            self.cost_history.append(cost)\n",
    "        \n",
    "        # TODO: Use scipy.optimize.minimize to optimize\n",
    "        # Try different methods: 'BFGS', 'L-BFGS-B', 'Newton-CG'\n",
    "        \n",
    "        result = minimize(\n",
    "            fun=logistic_loss,\n",
    "            x0=initial_theta,\n",
    "            args=(X, y),\n",
    "            method=self.method,\n",
    "            jac=logistic_gradient,\n",
    "            callback=callback,\n",
    "            options={'maxiter': 1000}\n",
    "        )\n",
    "        \n",
    "        self.theta = result.x\n",
    "        print(f\"Optimization converged: {result.success}\")\n",
    "        print(f\"Final cost: {result.fun:.6f}\")\n",
    "        print(f\"Number of iterations: {result.nit}\")\n",
    "        \n",
    "        return self\n",
    "    \n",
    "    def predict_proba(self, X):\n",
    "        return sigmoid(X @ self.theta)\n",
    "    \n",
    "    def predict(self, X):\n",
    "        return (self.predict_proba(X) >= 0.5).astype(int)\n",
    "\n",
    "# Train our model\n",
    "model_scratch = LogisticRegressionFromScratch(method='BFGS')\n",
    "model_scratch.fit(X_train, y_train)\n",
    "\n",
    "# Make predictions\n",
    "y_pred_scratch = model_scratch.predict(X_test)\n",
    "accuracy_scratch = accuracy_score(y_test, y_pred_scratch)\n",
    "print(f\"\\nAccuracy (from scratch): {accuracy_scratch:.4f}\")"
   ]
  },
  {
   "cell_type": "markdown",
   "metadata": {},
   "source": [
    "### Step 5: Visualize Training Progress and Decision Boundary"
   ]
  },
  {
   "cell_type": "code",
   "execution_count": null,
   "metadata": {},
   "outputs": [],
   "source": [
    "# Plot cost function during training\n",
    "plt.figure(figsize=(10, 4))\n",
    "\n",
    "plt.subplot(1, 2, 1)\n",
    "plt.plot(model_scratch.cost_history)\n",
    "plt.title('Cost Function During Training')\n",
    "plt.xlabel('Iteration')\n",
    "plt.ylabel('Cost')\n",
    "plt.grid(True)\n",
    "\n",
    "# Plot decision boundary\n",
    "plt.subplot(1, 2, 2)\n",
    "\n",
    "# Create a mesh for decision boundary\n",
    "h = 0.02\n",
    "x_min, x_max = X[:, 0].min() - 1, X[:, 0].max() + 1\n",
    "y_min, y_max = X[:, 1].min() - 1, X[:, 1].max() + 1\n",
    "xx, yy = np.meshgrid(np.arange(x_min, x_max, h),\n",
    "                     np.arange(y_min, y_max, h))\n",
    "\n",
    "# Add bias term to mesh\n",
    "mesh_points = np.c_[np.ones(xx.ravel().shape[0]), xx.ravel(), yy.ravel()]\n",
    "Z = model_scratch.predict_proba(mesh_points)\n",
    "Z = Z.reshape(xx.shape)\n",
    "\n",
    "# Plot decision boundary\n",
    "plt.contourf(xx, yy, Z, levels=50, alpha=0.8, cmap='RdYlBu')\n",
    "plt.colorbar(label='Predicted Probability')\n",
    "plt.contour(xx, yy, Z, levels=[0.5], colors='black', linestyles='--', linewidths=2)\n",
    "\n",
    "# Plot data points\n",
    "plt.scatter(X[y==0, 0], X[y==0, 1], c='red', marker='o', alpha=0.7, label='Class 0')\n",
    "plt.scatter(X[y==1, 0], X[y==1, 1], c='blue', marker='s', alpha=0.7, label='Class 1')\n",
    "plt.xlabel('Feature 1')\n",
    "plt.ylabel('Feature 2')\n",
    "plt.title('Decision Boundary (From Scratch)')\n",
    "plt.legend()\n",
    "\n",
    "plt.tight_layout()\n",
    "plt.show()"
   ]
  },
  {
   "cell_type": "markdown",
   "metadata": {},
   "source": [
    "## Part 2: Exploring sklearn's LogisticRegression\n",
    "\n",
    "Now let's compare our implementation with sklearn's and explore different parameters."
   ]
  },
  {
   "cell_type": "code",
   "execution_count": null,
   "metadata": {},
   "outputs": [],
   "source": [
    "# Compare with sklearn's implementation\n",
    "model_sklearn = LogisticRegression(random_state=42)\n",
    "model_sklearn.fit(X_train[:, 1:], y_train)  # Remove bias term for sklearn\n",
    "\n",
    "y_pred_sklearn = model_sklearn.predict(X_test[:, 1:])\n",
    "accuracy_sklearn = accuracy_score(y_test, y_pred_sklearn)\n",
    "\n",
    "print(f\"Accuracy (sklearn): {accuracy_sklearn:.4f}\")\n",
    "print(f\"Accuracy (from scratch): {accuracy_scratch:.4f}\")\n",
    "print(f\"\\nCoefficients comparison:\")\n",
    "print(f\"From scratch (w/ bias): {model_scratch.theta}\")\n",
    "print(f\"Sklearn weights: {model_sklearn.coef_[0]}\")\n",
    "print(f\"Sklearn bias: {model_sklearn.intercept_[0]}\")"
   ]
  },
  {
   "cell_type": "markdown",
   "metadata": {},
   "source": [
    "### Exploring Different Regularization Strengths (C parameter)\n",
    "The C parameter controls regularization strength. Smaller C = stronger regularization."
   ]
  },
  {
   "cell_type": "code",
   "execution_count": null,
   "metadata": {},
   "outputs": [],
   "source": [
    "# TODO: Experiment with different C values\n",
    "C_values = [0.01, 0.1, 1.0, 10.0, 100.0]\n",
    "\n",
    "plt.figure(figsize=(15, 10))\n",
    "\n",
    "for i, C in enumerate(C_values):\n",
    "    # Train model with different C\n",
    "    model = LogisticRegression(C=C, random_state=42)\n",
    "    model.fit(X_train[:, 1:], y_train)\n",
    "    \n",
    "    # Calculate accuracy\n",
    "    y_pred = model.predict(X_test[:, 1:])\n",
    "    accuracy = accuracy_score(y_test, y_pred)\n",
    "    \n",
    "    # Plot decision boundary\n",
    "    plt.subplot(2, 3, i+1)\n",
    "    \n",
    "    # Create mesh for visualization\n",
    "    Z_sklearn = model.predict_proba(np.c_[xx.ravel(), yy.ravel()])[:, 1]\n",
    "    Z_sklearn = Z_sklearn.reshape(xx.shape)\n",
    "    \n",
    "    plt.contourf(xx, yy, Z_sklearn, levels=50, alpha=0.8, cmap='RdYlBu')\n",
    "    plt.contour(xx, yy, Z_sklearn, levels=[0.5], colors='black', linestyles='--', linewidths=2)\n",
    "    \n",
    "    plt.scatter(X[y==0, 0], X[y==0, 1], c='red', marker='o', alpha=0.7, s=30)\n",
    "    plt.scatter(X[y==1, 0], X[y==1, 1], c='blue', marker='s', alpha=0.7, s=30)\n",
    "    \n",
    "    plt.title(f'C={C}, Accuracy={accuracy:.3f}')\n",
    "    plt.xlabel('Feature 1')\n",
    "    plt.ylabel('Feature 2')\n",
    "\n",
    "plt.tight_layout()\n",
    "plt.show()"
   ]
  },
  {
   "cell_type": "markdown",
   "metadata": {},
   "source": [
    "### Exploring Different Solvers\n",
    "sklearn offers different optimization algorithms."
   ]
  },
  {
   "cell_type": "code",
   "execution_count": null,
   "metadata": {},
   "outputs": [],
   "source": [
    "# TODO: Compare different solvers\n",
    "solvers = ['liblinear', 'lbfgs', 'newton-cg', 'sag']\n",
    "solver_results = {}\n",
    "\n",
    "for solver in solvers:\n",
    "    try:\n",
    "        model = LogisticRegression(solver=solver, random_state=42, max_iter=1000)\n",
    "        model.fit(X_train[:, 1:], y_train)\n",
    "        \n",
    "        y_pred = model.predict(X_test[:, 1:])\n",
    "        accuracy = accuracy_score(y_test, y_pred)\n",
    "        \n",
    "        solver_results[solver] = {\n",
    "            'accuracy': accuracy,\n",
    "            'n_iter': model.n_iter_[0] if hasattr(model, 'n_iter_') else 'N/A',\n",
    "            'coef': model.coef_[0],\n",
    "            'intercept': model.intercept_[0]\n",
    "        }\n",
    "        \n",
    "    except Exception as e:\n",
    "        print(f\"Error with solver {solver}: {e}\")\n",
    "\n",
    "# Display results\n",
    "print(\"Solver Comparison:\")\n",
    "print(\"-\" * 60)\n",
    "for solver, results in solver_results.items():\n",
    "    print(f\"{solver:12} | Accuracy: {results['accuracy']:.4f} | Iterations: {results['n_iter']}\")\n",
    "    print(f\"             | Coefficients: {results['coef']}\")\n",
    "    print(f\"             | Intercept: {results['intercept']:.4f}\")\n",
    "    print(\"-\" * 60)"
   ]
  },
  {
   "cell_type": "markdown",
   "metadata": {},
   "source": [
    "### Regularization Types: L1 vs L2\n",
    "Compare Ridge (L2) vs Lasso (L1) regularization effects."
   ]
  },
  {
   "cell_type": "code",
   "execution_count": null,
   "metadata": {},
   "outputs": [],
   "source": [
    "# TODO: Compare L1 and L2 regularization\n",
    "penalties = ['l1', 'l2']\n",
    "C_values = [0.1, 1.0, 10.0]\n",
    "\n",
    "plt.figure(figsize=(12, 8))\n",
    "\n",
    "plot_idx = 1\n",
    "for penalty in penalties:\n",
    "    for C in C_values:\n",
    "        # Use liblinear for L1, lbfgs for L2\n",
    "        solver = 'liblinear' if penalty == 'l1' else 'lbfgs'\n",
    "        \n",
    "        model = LogisticRegression(C=C, penalty=penalty, solver=solver, random_state=42)\n",
    "        model.fit(X_train[:, 1:], y_train)\n",
    "        \n",
    "        y_pred = model.predict(X_test[:, 1:])\n",
    "        accuracy = accuracy_score(y_test, y_pred)\n",
    "        \n",
    "        plt.subplot(2, 3, plot_idx)\n",
    "        \n",
    "        # Decision boundary\n",
    "        Z = model.predict_proba(np.c_[xx.ravel(), yy.ravel()])[:, 1]\n",
    "        Z = Z.reshape(xx.shape)\n",
    "        \n",
    "        plt.contourf(xx, yy, Z, levels=50, alpha=0.8, cmap='RdYlBu')\n",
    "        plt.contour(xx, yy, Z, levels=[0.5], colors='black', linestyles='--', linewidths=2)\n",
    "        \n",
    "        plt.scatter(X[y==0, 0], X[y==0, 1], c='red', marker='o', alpha=0.7, s=20)\n",
    "        plt.scatter(X[y==1, 0], X[y==1, 1], c='blue', marker='s', alpha=0.7, s=20)\n",
    "        \n",
    "        plt.title(f'{penalty.upper()}, C={C}\\nAcc={accuracy:.3f}')\n",
    "        plt.xlabel('Feature 1')\n",
    "        plt.ylabel('Feature 2')\n",
    "        \n",
    "        # Print coefficient magnitudes\n",
    "        coef_norm = np.linalg.norm(model.coef_[0])\n",
    "        print(f\"{penalty.upper()}, C={C}: Coefficient norm = {coef_norm:.4f}, Accuracy = {accuracy:.4f}\")\n",
    "        \n",
    "        plot_idx += 1\n",
    "\n",
    "plt.tight_layout()\n",
    "plt.show()"
   ]
  },
  {
   "cell_type": "markdown",
   "metadata": {},
   "source": [
    "### Model Performance Analysis"
   ]
  },
  {
   "cell_type": "code",
   "execution_count": null,
   "metadata": {},
   "outputs": [],
   "source": [
    "# Final comparison and confusion matrices\n",
    "models = {\n",
    "    'From Scratch': (model_scratch.predict(X_test), 'From scratch implementation'),\n",
    "    'sklearn Default': (model_sklearn.predict(X_test[:, 1:]), 'sklearn with default parameters'),\n",
    "    'sklearn L1 (C=1)': (LogisticRegression(penalty='l1', solver='liblinear', C=1.0, random_state=42)\n",
    "                        .fit(X_train[:, 1:], y_train).predict(X_test[:, 1:]), 'sklearn with L1 regularization'),\n",
    "    'sklearn L2 (C=0.1)': (LogisticRegression(penalty='l2', C=0.1, random_state=42)\n",
    "                          .fit(X_train[:, 1:], y_train).predict(X_test[:, 1:]), 'sklearn with strong L2 regularization')\n",
    "}\n",
    "\n",
    "plt.figure(figsize=(16, 4))\n",
    "\n",
    "for i, (name, (predictions, description)) in enumerate(models.items()):\n",
    "    accuracy = accuracy_score(y_test, predictions)\n",
    "    cm = confusion_matrix(y_test, predictions)\n",
    "    \n",
    "    plt.subplot(1, 4, i+1)\n",
    "    sns.heatmap(cm, annot=True, fmt='d', cmap='Blues', cbar=False)\n",
    "    plt.title(f'{name}\\nAccuracy: {accuracy:.4f}')\n",
    "    plt.xlabel('Predicted')\n",
    "    plt.ylabel('Actual')\n",
    "\n",
    "plt.tight_layout()\n",
    "plt.show()"
   ]
  },
  {
   "cell_type": "markdown",
   "metadata": {},
   "source": [
    "## Exercises for Students\n"
   ]
  },
  {
   "cell_type": "markdown",
   "metadata": {},
   "source": [
    "1. **Modify the sigmoid function**: What happens if you change the sigmoid to other activation functions like tanh?"
   ]
  },
  {
   "cell_type": "markdown",
   "metadata": {},
   "source": [
    "2. **Feature scaling**: Try the same experiments with and without feature scaling. How does it affect convergence?"
   ]
  },
  {
   "cell_type": "markdown",
   "metadata": {},
   "source": [
    "3. **Different datasets**: Test your implementation on the iris dataset from sklearn."
   ]
  },
  {
   "cell_type": "markdown",
   "metadata": {},
   "source": [
    "4. **Learning curves**: Plot training and validation accuracy vs training set size to understand overfitting."
   ]
  },
  {
   "cell_type": "markdown",
   "metadata": {},
   "source": [
    "5. **Multiclass extension**: Extend your implementation to handle multiclass classification (one-vs-rest)."
   ]
  }
 ],
 "metadata": {
  "kernelspec": {
   "display_name": "Python [conda env:base] *",
   "language": "python",
   "name": "conda-base-py"
  },
  "language_info": {
   "codemirror_mode": {
    "name": "ipython",
    "version": 3
   },
   "file_extension": ".py",
   "mimetype": "text/x-python",
   "name": "python",
   "nbconvert_exporter": "python",
   "pygments_lexer": "ipython3",
   "version": "3.13.5"
  }
 },
 "nbformat": 4,
 "nbformat_minor": 4
}
