{
 "cells": [
  {
   "cell_type": "markdown",
   "id": "c195cf70",
   "metadata": {},
   "source": [
    "## Impementing SVM"
   ]
  },
  {
   "cell_type": "markdown",
   "id": "cf60966e",
   "metadata": {},
   "source": [
    "### Imports"
   ]
  },
  {
   "cell_type": "code",
   "execution_count": 1,
   "id": "d16c4c43",
   "metadata": {},
   "outputs": [
    {
     "name": "stdout",
     "output_type": "stream",
     "text": [
      "Python: 3.13.5\n",
      "pandas: 2.2.3\n",
      "scikit-learn: 1.6.1\n"
     ]
    }
   ],
   "source": [
    "import os, sys\n",
    "import numpy as np\n",
    "import pandas as pd\n",
    "\n",
    "from sklearn.model_selection import train_test_split\n",
    "from sklearn.compose import ColumnTransformer\n",
    "from sklearn.preprocessing import OneHotEncoder, StandardScaler\n",
    "from sklearn.impute import SimpleImputer\n",
    "from sklearn.pipeline import Pipeline\n",
    "from sklearn.svm import SVC\n",
    "from sklearn.linear_model import LogisticRegression\n",
    "from sklearn.metrics import accuracy_score\n",
    "\n",
    "RANDOM_STATE = 42\n",
    "np.random.seed(RANDOM_STATE)\n",
    "\n",
    "print('Python:', sys.version.split()[0])\n",
    "import sklearn, pandas\n",
    "print('pandas:', pandas.__version__)\n",
    "print('scikit-learn:', sklearn.__version__)"
   ]
  },
  {
   "cell_type": "markdown",
   "id": "6e222460",
   "metadata": {},
   "source": [
    "### Loading The Titanic Dataset"
   ]
  },
  {
   "cell_type": "code",
   "execution_count": 3,
   "id": "d7893407",
   "metadata": {},
   "outputs": [
    {
     "name": "stdout",
     "output_type": "stream",
     "text": [
      "Loaded: ./titanic.csv\n",
      "Data shape: (891, 7)  Pos rate: 0.384\n"
     ]
    },
    {
     "data": {
      "text/html": [
       "<div>\n",
       "<style scoped>\n",
       "    .dataframe tbody tr th:only-of-type {\n",
       "        vertical-align: middle;\n",
       "    }\n",
       "\n",
       "    .dataframe tbody tr th {\n",
       "        vertical-align: top;\n",
       "    }\n",
       "\n",
       "    .dataframe thead th {\n",
       "        text-align: right;\n",
       "    }\n",
       "</style>\n",
       "<table border=\"1\" class=\"dataframe\">\n",
       "  <thead>\n",
       "    <tr style=\"text-align: right;\">\n",
       "      <th></th>\n",
       "      <th>Age</th>\n",
       "      <th>SibSp</th>\n",
       "      <th>Parch</th>\n",
       "      <th>Fare</th>\n",
       "      <th>Pclass</th>\n",
       "      <th>Sex</th>\n",
       "      <th>Embarked</th>\n",
       "    </tr>\n",
       "  </thead>\n",
       "  <tbody>\n",
       "    <tr>\n",
       "      <th>0</th>\n",
       "      <td>22.0</td>\n",
       "      <td>1</td>\n",
       "      <td>0</td>\n",
       "      <td>7.2500</td>\n",
       "      <td>3</td>\n",
       "      <td>male</td>\n",
       "      <td>S</td>\n",
       "    </tr>\n",
       "    <tr>\n",
       "      <th>1</th>\n",
       "      <td>38.0</td>\n",
       "      <td>1</td>\n",
       "      <td>0</td>\n",
       "      <td>71.2833</td>\n",
       "      <td>1</td>\n",
       "      <td>female</td>\n",
       "      <td>C</td>\n",
       "    </tr>\n",
       "    <tr>\n",
       "      <th>2</th>\n",
       "      <td>26.0</td>\n",
       "      <td>0</td>\n",
       "      <td>0</td>\n",
       "      <td>7.9250</td>\n",
       "      <td>3</td>\n",
       "      <td>female</td>\n",
       "      <td>S</td>\n",
       "    </tr>\n",
       "    <tr>\n",
       "      <th>3</th>\n",
       "      <td>35.0</td>\n",
       "      <td>1</td>\n",
       "      <td>0</td>\n",
       "      <td>53.1000</td>\n",
       "      <td>1</td>\n",
       "      <td>female</td>\n",
       "      <td>S</td>\n",
       "    </tr>\n",
       "    <tr>\n",
       "      <th>4</th>\n",
       "      <td>35.0</td>\n",
       "      <td>0</td>\n",
       "      <td>0</td>\n",
       "      <td>8.0500</td>\n",
       "      <td>3</td>\n",
       "      <td>male</td>\n",
       "      <td>S</td>\n",
       "    </tr>\n",
       "  </tbody>\n",
       "</table>\n",
       "</div>"
      ],
      "text/plain": [
       "    Age  SibSp  Parch     Fare  Pclass     Sex Embarked\n",
       "0  22.0      1      0   7.2500       3    male        S\n",
       "1  38.0      1      0  71.2833       1  female        C\n",
       "2  26.0      0      0   7.9250       3  female        S\n",
       "3  35.0      1      0  53.1000       1  female        S\n",
       "4  35.0      0      0   8.0500       3    male        S"
      ]
     },
     "execution_count": 3,
     "metadata": {},
     "output_type": "execute_result"
    }
   ],
   "source": [
    "paths = ['./titanic.csv']\n",
    "df = None\n",
    "for p in paths:\n",
    "    if os.path.exists(p):\n",
    "        df = pd.read_csv(p)\n",
    "        print('Loaded:', p)\n",
    "        break\n",
    "\n",
    "# Keep it simple: choose a few useful columns\n",
    "df.columns = [c.strip() for c in df.columns]\n",
    "target = 'Survived'\n",
    "feat_num = ['Age','SibSp','Parch','Fare']\n",
    "feat_cat = ['Pclass','Sex','Embarked']\n",
    "\n",
    "# Minimal model table (drop rows with missing target)\n",
    "dfm = df[[target]+feat_num+feat_cat].dropna(subset=[target]).copy()\n",
    "\n",
    "X = dfm.drop(columns=[target])\n",
    "y = dfm[target].astype(int)\n",
    "\n",
    "print('Data shape:', X.shape, ' Pos rate:', y.mean().round(3))\n",
    "X.head()"
   ]
  },
  {
   "cell_type": "markdown",
   "id": "533aacb5",
   "metadata": {},
   "source": [
    "### Pre-Processing"
   ]
  },
  {
   "cell_type": "code",
   "execution_count": 4,
   "id": "6165c0c0",
   "metadata": {},
   "outputs": [
    {
     "data": {
      "text/plain": [
       "((712, 7), (179, 7))"
      ]
     },
     "execution_count": 4,
     "metadata": {},
     "output_type": "execute_result"
    }
   ],
   "source": [
    "num_pipe = Pipeline([\n",
    "    ('imputer', SimpleImputer(strategy='median')),\n",
    "    ('scaler', StandardScaler())\n",
    "])\n",
    "\n",
    "cat_pipe = Pipeline([\n",
    "    ('imputer', SimpleImputer(strategy='most_frequent')),\n",
    "    ('onehot', OneHotEncoder(handle_unknown='ignore', sparse_output=False))\n",
    "])\n",
    "\n",
    "preprocess = ColumnTransformer([\n",
    "    ('num', num_pipe, [c for c in feat_num if c in X.columns]),\n",
    "    ('cat', cat_pipe, [c for c in feat_cat if c in X.columns])\n",
    "])\n",
    "\n",
    "X_train, X_test, y_train, y_test = train_test_split(\n",
    "    X, y, test_size=0.2, random_state=RANDOM_STATE, stratify=y if len(np.unique(y))==2 else None\n",
    ")\n",
    "X_train.shape, X_test.shape"
   ]
  },
  {
   "cell_type": "markdown",
   "id": "d179d086",
   "metadata": {},
   "source": [
    "### Training SVM"
   ]
  },
  {
   "cell_type": "code",
   "execution_count": 10,
   "id": "38e459e3",
   "metadata": {},
   "outputs": [
    {
     "name": "stdout",
     "output_type": "stream",
     "text": [
      "SVM Test Accuracy: 0.8156\n"
     ]
    }
   ],
   "source": [
    "svm_model = Pipeline([\n",
    "    ('prep', preprocess),\n",
    "    ('clf', SVC(kernel='rbf', random_state=RANDOM_STATE))\n",
    "])\n",
    "\n",
    "svm_model.fit(X_train, y_train)\n",
    "svm_acc = accuracy_score(y_test, svm_model.predict(X_test))\n",
    "print('SVM Test Accuracy:', round(svm_acc, 4))"
   ]
  },
  {
   "cell_type": "markdown",
   "id": "bd3ff26c",
   "metadata": {},
   "source": [
    "### Training LR"
   ]
  },
  {
   "cell_type": "code",
   "execution_count": 11,
   "id": "3ac9b072",
   "metadata": {},
   "outputs": [
    {
     "name": "stdout",
     "output_type": "stream",
     "text": [
      "Logistic Regression Test Accuracy: 0.8045\n"
     ]
    }
   ],
   "source": [
    "lr_model = Pipeline([\n",
    "    ('prep', preprocess),\n",
    "    ('clf', LogisticRegression(max_iter=1000, random_state=RANDOM_STATE))\n",
    "])\n",
    "\n",
    "lr_model.fit(X_train, y_train)\n",
    "lr_acc = accuracy_score(y_test, lr_model.predict(X_test))\n",
    "print('Logistic Regression Test Accuracy:', round(lr_acc, 4))"
   ]
  },
  {
   "cell_type": "markdown",
   "id": "bcbdb0bf",
   "metadata": {},
   "source": [
    "### Comparing them both"
   ]
  },
  {
   "cell_type": "code",
   "execution_count": 12,
   "id": "6612b483",
   "metadata": {},
   "outputs": [
    {
     "name": "stdout",
     "output_type": "stream",
     "text": [
      "--- Simple Comparison ---\n",
      "SVM accuracy:              0.8156\n",
      "Logistic Regression:        0.8045\n",
      "✅ SVM won on this split.\n",
      "\n",
      "Tip: LR is simpler + faster; if accuracy is close, LR may be preferable.\n"
     ]
    }
   ],
   "source": [
    "print('--- Simple Comparison ---')\n",
    "print(f'SVM accuracy:              {svm_acc:.4f}')\n",
    "print(f'Logistic Regression:        {lr_acc:.4f}')\n",
    "\n",
    "if svm_acc > lr_acc:\n",
    "    print('✅ SVM won on this split.')\n",
    "elif lr_acc > svm_acc:\n",
    "    print('✅ Logistic Regression won on this split.')\n",
    "else:\n",
    "    print('⚖️ They tied on this split.')\n",
    "\n",
    "# Optional: quick tip\n",
    "if lr_acc + 0.02 >= svm_acc:\n",
    "    print('\\nTip: LR is simpler + faster; if accuracy is close, LR may be preferable.')"
   ]
  }
 ],
 "metadata": {
  "kernelspec": {
   "display_name": "base",
   "language": "python",
   "name": "python3"
  },
  "language_info": {
   "codemirror_mode": {
    "name": "ipython",
    "version": 3
   },
   "file_extension": ".py",
   "mimetype": "text/x-python",
   "name": "python",
   "nbconvert_exporter": "python",
   "pygments_lexer": "ipython3",
   "version": "3.13.5"
  }
 },
 "nbformat": 4,
 "nbformat_minor": 5
}
